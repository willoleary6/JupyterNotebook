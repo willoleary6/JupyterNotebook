{
 "cells": [
  {
   "cell_type": "code",
   "execution_count": 1,
   "metadata": {},
   "outputs": [
    {
     "data": {
      "text/html": [
       "<div>\n",
       "<style scoped>\n",
       "    .dataframe tbody tr th:only-of-type {\n",
       "        vertical-align: middle;\n",
       "    }\n",
       "\n",
       "    .dataframe tbody tr th {\n",
       "        vertical-align: top;\n",
       "    }\n",
       "\n",
       "    .dataframe thead th {\n",
       "        text-align: right;\n",
       "    }\n",
       "</style>\n",
       "<table border=\"1\" class=\"dataframe\">\n",
       "  <thead>\n",
       "    <tr style=\"text-align: right;\">\n",
       "      <th></th>\n",
       "      <th>Bull_Number</th>\n",
       "      <th>ICBF_Number_Servered</th>\n",
       "      <th>ICBF_Number_Incalf</th>\n",
       "      <th>ICBF_Number_Empty</th>\n",
       "      <th>ICBF_Percentage_Empty</th>\n",
       "      <th>PD_Number_Servered</th>\n",
       "      <th>PD_Number_Incalf</th>\n",
       "      <th>PD_Number_Empty</th>\n",
       "      <th>PD_Percentage_Empty</th>\n",
       "    </tr>\n",
       "  </thead>\n",
       "  <tbody>\n",
       "    <tr>\n",
       "      <th>0</th>\n",
       "      <td>JE2263</td>\n",
       "      <td>40</td>\n",
       "      <td>28</td>\n",
       "      <td>12</td>\n",
       "      <td>30.00%</td>\n",
       "      <td>38.0</td>\n",
       "      <td>28.0</td>\n",
       "      <td>10.0</td>\n",
       "      <td>26%</td>\n",
       "    </tr>\n",
       "    <tr>\n",
       "      <th>1</th>\n",
       "      <td>NR4171</td>\n",
       "      <td>65</td>\n",
       "      <td>51</td>\n",
       "      <td>14</td>\n",
       "      <td>21.50%</td>\n",
       "      <td>63.0</td>\n",
       "      <td>50.0</td>\n",
       "      <td>13.0</td>\n",
       "      <td>21%</td>\n",
       "    </tr>\n",
       "    <tr>\n",
       "      <th>2</th>\n",
       "      <td>EKE</td>\n",
       "      <td>61</td>\n",
       "      <td>51</td>\n",
       "      <td>10</td>\n",
       "      <td>16.40%</td>\n",
       "      <td>59.0</td>\n",
       "      <td>50.0</td>\n",
       "      <td>9.0</td>\n",
       "      <td>15%</td>\n",
       "    </tr>\n",
       "    <tr>\n",
       "      <th>3</th>\n",
       "      <td>SEW</td>\n",
       "      <td>35</td>\n",
       "      <td>34</td>\n",
       "      <td>1</td>\n",
       "      <td>2.90%</td>\n",
       "      <td>NaN</td>\n",
       "      <td>NaN</td>\n",
       "      <td>NaN</td>\n",
       "      <td>NaN</td>\n",
       "    </tr>\n",
       "  </tbody>\n",
       "</table>\n",
       "</div>"
      ],
      "text/plain": [
       "  Bull_Number  ICBF_Number_Servered  ICBF_Number_Incalf  ICBF_Number_Empty  \\\n",
       "0      JE2263                    40                  28                 12   \n",
       "1      NR4171                    65                  51                 14   \n",
       "2         EKE                    61                  51                 10   \n",
       "3         SEW                    35                  34                  1   \n",
       "\n",
       "  ICBF_Percentage_Empty  PD_Number_Servered  PD_Number_Incalf  \\\n",
       "0                30.00%                38.0              28.0   \n",
       "1                21.50%                63.0              50.0   \n",
       "2                16.40%                59.0              50.0   \n",
       "3                 2.90%                 NaN               NaN   \n",
       "\n",
       "   PD_Number_Empty PD_Percentage_Empty  \n",
       "0             10.0                 26%  \n",
       "1             13.0                 21%  \n",
       "2              9.0                 15%  \n",
       "3              NaN                 NaN  "
      ]
     },
     "execution_count": 1,
     "metadata": {},
     "output_type": "execute_result"
    }
   ],
   "source": [
    "#Import the libraries we will be using \n",
    "import pandas as pd\n",
    "import numpy as np\n",
    "import seaborn as sns\n",
    "import gmplot\n",
    "import matplotlib.pyplot as plt\n",
    "from itertools import cycle, islice\n",
    "%matplotlib inline \n",
    "\n",
    "df = pd.read_csv(\"masseys bull.csv\")\n",
    "df.head(10)"
   ]
  },
  {
   "cell_type": "code",
   "execution_count": 2,
   "metadata": {},
   "outputs": [
    {
     "data": {
      "text/plain": [
       "Text(0.5, 1.0, 'Massey Empty Cows')"
      ]
     },
     "execution_count": 2,
     "metadata": {},
     "output_type": "execute_result"
    },
    {
     "data": {
      "image/png": "[encoded data removed]",
      "text/plain": [
       "<Figure size 720x720 with 1 Axes>"
      ]
     },
     "metadata": {
      "needs_background": "light"
     },
     "output_type": "display_data"
    }
   ],
   "source": [
    "df[\"ICBF_Percentage_Empty\"] = (df[\"ICBF_Number_Empty\"]/df[\"ICBF_Number_Servered\"]) * 100\n",
    "df[\"PD_Percentage_Empty\"] = (df[\"PD_Number_Empty\"]/df[\"PD_Number_Servered\"]) * 100\n",
    "bar_chart = pd.DataFrame(\n",
    "    {\n",
    "        'ICBF':df[\"ICBF_Percentage_Empty\"], \n",
    "        'PD':df[\"PD_Percentage_Empty\"]\n",
    "    }\n",
    ")\n",
    "my_colors = [\"#FF0000\", \"#0000ff\"]\n",
    "ax = bar_chart.plot(\n",
    "    kind='bar', \n",
    "    title =\"Massey\",\n",
    "    figsize=(15,10),\n",
    "    legend=True, \n",
    "    fontsize=12, \n",
    "    color = my_colors\n",
    ")\n",
    "ax.figure.set_size_inches(10,10)\n",
    "ax.set_xticklabels(df[\"Bull_Number\"], rotation=0)\n",
    "ax.set_title(\"Massey Empty Cows\")\n"
   ]
  },
  {
   "cell_type": "code",
   "execution_count": 3,
   "metadata": {},
   "outputs": [
    {
     "data": {
      "text/html": [
       "<div>\n",
       "<style scoped>\n",
       "    .dataframe tbody tr th:only-of-type {\n",
       "        vertical-align: middle;\n",
       "    }\n",
       "\n",
       "    .dataframe tbody tr th {\n",
       "        vertical-align: top;\n",
       "    }\n",
       "\n",
       "    .dataframe thead th {\n",
       "        text-align: right;\n",
       "    }\n",
       "</style>\n",
       "<table border=\"1\" class=\"dataframe\">\n",
       "  <thead>\n",
       "    <tr style=\"text-align: right;\">\n",
       "      <th></th>\n",
       "      <th>Bull_Number</th>\n",
       "      <th>ICBF_Number_Servered</th>\n",
       "      <th>ICBF_Number_Incalf</th>\n",
       "      <th>ICBF_Number_Empty</th>\n",
       "      <th>ICBF_Percentage_Empty</th>\n",
       "      <th>PD_Number_Servered</th>\n",
       "      <th>PD_Number_Incalf</th>\n",
       "      <th>PD_Number_Empty</th>\n",
       "      <th>PD_Percentage_Empty</th>\n",
       "    </tr>\n",
       "  </thead>\n",
       "  <tbody>\n",
       "    <tr>\n",
       "      <th>0</th>\n",
       "      <td>JE2263</td>\n",
       "      <td>92</td>\n",
       "      <td>72</td>\n",
       "      <td>20</td>\n",
       "      <td>21.70%</td>\n",
       "      <td>83</td>\n",
       "      <td>59</td>\n",
       "      <td>24</td>\n",
       "      <td>28.90%</td>\n",
       "    </tr>\n",
       "    <tr>\n",
       "      <th>1</th>\n",
       "      <td>NR4171</td>\n",
       "      <td>176</td>\n",
       "      <td>152</td>\n",
       "      <td>24</td>\n",
       "      <td>13.60%</td>\n",
       "      <td>175</td>\n",
       "      <td>154</td>\n",
       "      <td>21</td>\n",
       "      <td>12.00%</td>\n",
       "    </tr>\n",
       "    <tr>\n",
       "      <th>2</th>\n",
       "      <td>EKE</td>\n",
       "      <td>61</td>\n",
       "      <td>44</td>\n",
       "      <td>17</td>\n",
       "      <td>27.90%</td>\n",
       "      <td>64</td>\n",
       "      <td>45</td>\n",
       "      <td>19</td>\n",
       "      <td>29.70%</td>\n",
       "    </tr>\n",
       "    <tr>\n",
       "      <th>3</th>\n",
       "      <td>SEW</td>\n",
       "      <td>37</td>\n",
       "      <td>35</td>\n",
       "      <td>2</td>\n",
       "      <td>5.40%</td>\n",
       "      <td>40</td>\n",
       "      <td>37</td>\n",
       "      <td>3</td>\n",
       "      <td>7.50%</td>\n",
       "    </tr>\n",
       "    <tr>\n",
       "      <th>4</th>\n",
       "      <td>FR2275</td>\n",
       "      <td>40</td>\n",
       "      <td>35</td>\n",
       "      <td>5</td>\n",
       "      <td>12.50%</td>\n",
       "      <td>39</td>\n",
       "      <td>32</td>\n",
       "      <td>5</td>\n",
       "      <td>17.90%</td>\n",
       "    </tr>\n",
       "  </tbody>\n",
       "</table>\n",
       "</div>"
      ],
      "text/plain": [
       "  Bull_Number  ICBF_Number_Servered  ICBF_Number_Incalf  ICBF_Number_Empty  \\\n",
       "0      JE2263                    92                  72                 20   \n",
       "1      NR4171                   176                 152                 24   \n",
       "2         EKE                    61                  44                 17   \n",
       "3         SEW                    37                  35                  2   \n",
       "4      FR2275                    40                  35                  5   \n",
       "\n",
       "  ICBF_Percentage_Empty  PD_Number_Servered  PD_Number_Incalf  \\\n",
       "0                21.70%                  83                59   \n",
       "1                13.60%                 175               154   \n",
       "2                27.90%                  64                45   \n",
       "3                 5.40%                  40                37   \n",
       "4                12.50%                  39                32   \n",
       "\n",
       "   PD_Number_Empty PD_Percentage_Empty  \n",
       "0               24              28.90%  \n",
       "1               21              12.00%  \n",
       "2               19              29.70%  \n",
       "3                3               7.50%  \n",
       "4                5              17.90%  "
      ]
     },
     "execution_count": 3,
     "metadata": {},
     "output_type": "execute_result"
    }
   ],
   "source": [
    "df = pd.read_csv(\"fortwilliams bull.csv\")\n",
    "df.head(15)"
   ]
  },
  {
   "cell_type": "code",
   "execution_count": 4,
   "metadata": {},
   "outputs": [
    {
     "data": {
      "text/plain": [
       "Text(0.5, 1.0, 'Fortwilliam Empty Cows')"
      ]
     },
     "execution_count": 4,
     "metadata": {},
     "output_type": "execute_result"
    },
    {
     "data": {
      "image/png": "[encoded data removed]",
      "text/plain": [
       "<Figure size 720x720 with 1 Axes>"
      ]
     },
     "metadata": {
      "needs_background": "light"
     },
     "output_type": "display_data"
    }
   ],
   "source": [
    "df[\"ICBF_Percentage_Empty\"] = (df[\"ICBF_Number_Empty\"]/df[\"ICBF_Number_Servered\"]) * 100\n",
    "df[\"PD_Percentage_Empty\"] = (df[\"PD_Number_Empty\"]/df[\"PD_Number_Servered\"]) * 100\n",
    "bar_chart = pd.DataFrame(\n",
    "    {\n",
    "        'ICBF':df[\"ICBF_Percentage_Empty\"], \n",
    "        'PD':df[\"PD_Percentage_Empty\"]\n",
    "    }\n",
    ")\n",
    "my_colors = [\"#FF0000\", \"#0000ff\"]\n",
    "ax = bar_chart.plot(\n",
    "    kind='bar', \n",
    "    title =\"Massey\",\n",
    "    figsize=(15,10),\n",
    "    legend=True, \n",
    "    fontsize=12, \n",
    "    color = my_colors\n",
    ")\n",
    "ax.figure.set_size_inches(10,10)\n",
    "ax.set_xticklabels(df[\"Bull_Number\"], rotation=0)\n",
    "ax.set_title(\"Fortwilliam Empty Cows\")"
   ]
  },
  {
   "cell_type": "code",
   "execution_count": 5,
   "metadata": {
    "scrolled": true
   },
   "outputs": [
    {
     "data": {
      "text/html": [
       "<div>\n",
       "<style scoped>\n",
       "    .dataframe tbody tr th:only-of-type {\n",
       "        vertical-align: middle;\n",
       "    }\n",
       "\n",
       "    .dataframe tbody tr th {\n",
       "        vertical-align: top;\n",
       "    }\n",
       "\n",
       "    .dataframe thead th {\n",
       "        text-align: right;\n",
       "    }\n",
       "</style>\n",
       "<table border=\"1\" class=\"dataframe\">\n",
       "  <thead>\n",
       "    <tr style=\"text-align: right;\">\n",
       "      <th></th>\n",
       "      <th>col_1</th>\n",
       "      <th>bull_name</th>\n",
       "      <th>col_3</th>\n",
       "      <th>number_served</th>\n",
       "      <th>number_incalf</th>\n",
       "      <th>number_empty</th>\n",
       "      <th>percentage_empty</th>\n",
       "      <th>col_8</th>\n",
       "    </tr>\n",
       "  </thead>\n",
       "  <tbody>\n",
       "    <tr>\n",
       "      <th>0</th>\n",
       "      <td>10</td>\n",
       "      <td>EKE</td>\n",
       "      <td>1.000</td>\n",
       "      <td>21</td>\n",
       "      <td>21</td>\n",
       "      <td>0.1</td>\n",
       "      <td>0.00%</td>\n",
       "      <td>ICBFBeforeJune12th</td>\n",
       "    </tr>\n",
       "    <tr>\n",
       "      <th>1</th>\n",
       "      <td>20</td>\n",
       "      <td>EKE</td>\n",
       "      <td>0.575</td>\n",
       "      <td>40</td>\n",
       "      <td>23</td>\n",
       "      <td>17.0</td>\n",
       "      <td>42.50%</td>\n",
       "      <td>ICBFAfterJune11th</td>\n",
       "    </tr>\n",
       "  </tbody>\n",
       "</table>\n",
       "</div>"
      ],
      "text/plain": [
       "   col_1 bull_name  col_3  number_served  number_incalf  number_empty  \\\n",
       "0     10       EKE  1.000             21             21           0.1   \n",
       "1     20       EKE  0.575             40             23          17.0   \n",
       "\n",
       "  percentage_empty               col_8  \n",
       "0            0.00%  ICBFBeforeJune12th  \n",
       "1           42.50%   ICBFAfterJune11th  "
      ]
     },
     "execution_count": 5,
     "metadata": {},
     "output_type": "execute_result"
    }
   ],
   "source": [
    "df = pd.read_csv(\"2nd table.csv\")\n",
    "df.head(15)"
   ]
  },
  {
   "cell_type": "code",
   "execution_count": 6,
   "metadata": {},
   "outputs": [],
   "source": [
    "df[\"Percentage_Empty\"] = (df[\"number_empty\"]/df[\"number_served\"]) * 100"
   ]
  },
  {
   "cell_type": "code",
   "execution_count": 7,
   "metadata": {},
   "outputs": [
    {
     "data": {
      "text/plain": [
       "Text(0.5, 1.0, 'Massey Empty Cows')"
      ]
     },
     "execution_count": 7,
     "metadata": {},
     "output_type": "execute_result"
    },
    {
     "data": {
      "image/png": "[encoded data removed]",
      "text/plain": [
       "<Figure size 720x720 with 1 Axes>"
      ]
     },
     "metadata": {
      "needs_background": "light"
     },
     "output_type": "display_data"
    }
   ],
   "source": [
    "bar_chart = pd.DataFrame(\n",
    "    {\n",
    "        'Percentage Empty':df[\"Percentage_Empty\"], \n",
    "    }\n",
    ")\n",
    "my_colors = [\"#FF0000\", \"#0000ff\"]\n",
    "ax = bar_chart.plot(\n",
    "    kind='bar', \n",
    "    title =\"Massey\",\n",
    "    figsize=(15,10),\n",
    "    legend=True, \n",
    "    fontsize=12, \n",
    "    color = my_colors\n",
    ")\n",
    "ax.figure.set_size_inches(10,10)\n",
    "ax.set_xticklabels(df[\"col_8\"], rotation=0)\n",
    "ax.set_title(\"Massey Empty Cows\")"
   ]
  },
  {
   "cell_type": "code",
   "execution_count": null,
   "metadata": {},
   "outputs": [],
   "source": []
  }
 ],
 "metadata": {
  "kernelspec": {
   "display_name": "Python 3",
   "language": "python",
   "name": "python3"
  },
  "language_info": {
   "codemirror_mode": {
    "name": "ipython",
    "version": 3
   },
   "file_extension": ".py",
   "mimetype": "text/x-python",
   "name": "python",
   "nbconvert_exporter": "python",
   "pygments_lexer": "ipython3",
   "version": "3.6.7"
  }
 },
 "nbformat": 4,
 "nbformat_minor": 2
}
